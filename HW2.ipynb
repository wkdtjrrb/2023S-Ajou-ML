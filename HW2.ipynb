{
  "nbformat": 4,
  "nbformat_minor": 0,
  "metadata": {
    "colab": {
      "provenance": [],
      "include_colab_link": true
    },
    "kernelspec": {
      "name": "python3",
      "display_name": "Python 3"
    },
    "language_info": {
      "name": "python"
    }
  },
  "cells": [
    {
      "cell_type": "markdown",
      "metadata": {
        "id": "view-in-github",
        "colab_type": "text"
      },
      "source": [
        "<a href=\"https://colab.research.google.com/github/wkdtjrrb/2023S-Ajou-ML/blob/main/HW2.ipynb\" target=\"_parent\"><img src=\"https://colab.research.google.com/assets/colab-badge.svg\" alt=\"Open In Colab\"/></a>"
      ]
    },
    {
      "cell_type": "markdown",
      "source": [
        "# HW2"
      ],
      "metadata": {
        "id": "RqpUEbgPjSeM"
      }
    },
    {
      "cell_type": "markdown",
      "source": [
        "이번 과제에서는 대출의 승인 여부(Status)를 예측하는 데이터셋을 사용합니다.\n",
        "<br>\n",
        "HW1에서 제공한 데이터셋과는 다른 데이터셋입니다. bb에 업로드된 train.csv를 사용하여 과제를 진행해주세요."
      ],
      "metadata": {
        "id": "fEZMgUAivdtW"
      }
    },
    {
      "cell_type": "markdown",
      "source": [
        "[원본 데이터셋 링크](https://www.kaggle.com/datasets/mirzahasnine/loan-data-set?select=loan_train.csv)"
      ],
      "metadata": {
        "id": "HCk6mGFNvTui"
      }
    },
    {
      "cell_type": "markdown",
      "source": [
        "## 주의\n",
        "✋ 작성한 모든 코드에 주석을 작성할 것\n",
        "<br>\n",
        "✋ 이번 과제에서는 보고서 제출 X, 다만 문제 풀이 파일을 제출해야 함!"
      ],
      "metadata": {
        "id": "VQJhm0mHtdRH"
      }
    },
    {
      "cell_type": "markdown",
      "source": [
        "## 코랩 연결 및 라이브러리 불러오기"
      ],
      "metadata": {
        "id": "1oCehSHcjUtc"
      }
    },
    {
      "cell_type": "code",
      "source": [
        "from google.colab import drive\n",
        "drive.mount('/content/drive')"
      ],
      "metadata": {
        "id": "9_p_XEdkjOy1"
      },
      "execution_count": null,
      "outputs": []
    },
    {
      "cell_type": "code",
      "source": [
        "cd # 경로 조정 # 경로는 본인의 환경에 맞게 조절 가능"
      ],
      "metadata": {
        "id": "U4Stu0G5kC_s"
      },
      "execution_count": null,
      "outputs": []
    },
    {
      "cell_type": "code",
      "source": [
        "import pandas as pd\n",
        "import numpy as np\n",
        "import matplotlib.pyplot as plt\n",
        "import seaborn as sns"
      ],
      "metadata": {
        "id": "I5GMeztkjdNP"
      },
      "execution_count": null,
      "outputs": []
    },
    {
      "cell_type": "markdown",
      "source": [
        "## 데이터 불러오기"
      ],
      "metadata": {
        "id": "6hWVxnm3j73J"
      }
    },
    {
      "cell_type": "code",
      "source": [
        "df = pd.read_csv('./train.csv') # 제공된 train.csv 사용 # 환경에 맞게 path 조절 가능"
      ],
      "metadata": {
        "id": "Gz6em0DcjkOB"
      },
      "execution_count": null,
      "outputs": []
    },
    {
      "cell_type": "code",
      "source": [
        "df.head()"
      ],
      "metadata": {
        "id": "vApR9bIEkP3L"
      },
      "execution_count": null,
      "outputs": []
    },
    {
      "cell_type": "code",
      "source": [
        "df.tail()"
      ],
      "metadata": {
        "id": "-iTlEChakUTl"
      },
      "execution_count": null,
      "outputs": []
    },
    {
      "cell_type": "code",
      "source": [
        "df.describe()"
      ],
      "metadata": {
        "id": "13FSZP7xkVVk"
      },
      "execution_count": null,
      "outputs": []
    },
    {
      "cell_type": "code",
      "source": [
        "df.info()"
      ],
      "metadata": {
        "id": "pqjChJjulS6Y"
      },
      "execution_count": null,
      "outputs": []
    },
    {
      "cell_type": "markdown",
      "source": [
        "## 간단한 EDA"
      ],
      "metadata": {
        "id": "Wuljj767lvIs"
      }
    },
    {
      "cell_type": "code",
      "source": [
        "sns.pairplot(df,corner=True,hue='Status') # 이 데이터의 타겟 변수(예측하고자 하는 변수)는 'Status'입니다"
      ],
      "metadata": {
        "id": "qz1LNGgklki3"
      },
      "execution_count": null,
      "outputs": []
    },
    {
      "cell_type": "code",
      "source": [
        "sns.heatmap(df.corr(),annot=True) # numerical feature들끼리의 correlation"
      ],
      "metadata": {
        "id": "gtReaM-ZmOpG"
      },
      "execution_count": null,
      "outputs": []
    },
    {
      "cell_type": "markdown",
      "source": [
        "## 결측치 확인"
      ],
      "metadata": {
        "id": "4ZlOsKL8kqxd"
      }
    },
    {
      "cell_type": "code",
      "source": [
        "df.isnull().sum()"
      ],
      "metadata": {
        "id": "B7rjrIwcksxG"
      },
      "execution_count": null,
      "outputs": []
    },
    {
      "cell_type": "markdown",
      "source": [
        "## 문제1: Categorical feature missing value drop\n",
        "categorical feature에서 결측값이 있는 row를 삭제하세요.  \n",
        "참고) sklearn 패키지에서 제공하는 imputer를 사용하면 최빈값으로 categorical feature의 결측 값도 채울 수 있으나, 편의 상 결측값이 있는 행을 삭제하겠습니다."
      ],
      "metadata": {
        "id": "QOJugSOS89Ul"
      }
    },
    {
      "cell_type": "code",
      "source": [
        "## 문제 1 ##\n",
        "# 코드 작성\n",
        "\n",
        "##########"
      ],
      "metadata": {
        "id": "YQMyoDaH4GpM"
      },
      "execution_count": null,
      "outputs": []
    },
    {
      "cell_type": "markdown",
      "source": [
        "## 문제2: Label Encoding\n",
        "모든 categorical feature들을 Label Encoding하여 numerical feature로 바꾸세요.\n",
        "* LabelEncoder()를 사용하세요"
      ],
      "metadata": {
        "id": "VeBBZGHfpsIt"
      }
    },
    {
      "cell_type": "code",
      "source": [
        "from sklearn.preprocessing import LabelEncoder"
      ],
      "metadata": {
        "id": "ahb4ZVZ5pwqo"
      },
      "execution_count": null,
      "outputs": []
    },
    {
      "cell_type": "code",
      "source": [
        "categorical = list(df.select_dtypes(include='object').columns) # categorical features들의 column name 모음"
      ],
      "metadata": {
        "id": "YL3njsChrfA8"
      },
      "execution_count": null,
      "outputs": []
    },
    {
      "cell_type": "code",
      "source": [
        "## 문제 2 ##\n",
        "# 코드 작성\n",
        "\n",
        "##########"
      ],
      "metadata": {
        "id": "q7RZscLm4lmA"
      },
      "execution_count": null,
      "outputs": []
    },
    {
      "cell_type": "code",
      "source": [
        "df # categorical -> numerical 로 바뀌었는지 확인"
      ],
      "metadata": {
        "id": "Mm9sgi4hq2dX"
      },
      "execution_count": null,
      "outputs": []
    },
    {
      "cell_type": "markdown",
      "source": [
        "## 문제 3: KNN imputer\n",
        "위에서 이 데이터셋의 numberical feature에도 결측치가 있음을 확인했습니다.   \n",
        "categorical feature에서는 결측치가 있는 행을 drop하였지만 numerical feature 중 결측치가 있는 'Term', 'Credit_History'열에 대해서 KNN imputer를 사용하여 결측치를 채워봅시다."
      ],
      "metadata": {
        "id": "D5PxgaVvlAeA"
      }
    },
    {
      "cell_type": "markdown",
      "source": [
        "### 문제 3-1\n",
        "주어진 코드틀에 데이터프레임 X와 결측값이 있는 행 데이터 간의 거리 구하는 코드를 작성하세요.  \n",
        "* 주의) 코드틀 이외의 부분에 코드를 작성하지 마세요!\n",
        "* 주의) 코드 시작과 코드 끝 라인을 삭제하지 마세요."
      ],
      "metadata": {
        "id": "_OUfAmCJuWk6"
      }
    },
    {
      "cell_type": "markdown",
      "source": [
        "### 문제 3-2\n",
        "주어진 코드틀에서 k개의 값을 보고 평균을 내어 결측값을 결정하는 코드를 작성하세요.\n",
        "* 주의) 코드틀 이외의 부분에 코드를 작성하지 마세요!\n",
        "* 주의) 코드 시작과 코드 끝 라인을 삭제하지 마세요."
      ],
      "metadata": {
        "id": "EduM8tcVu5Tt"
      }
    },
    {
      "cell_type": "code",
      "source": [
        "import tqdm"
      ],
      "metadata": {
        "id": "Xm34r4TjnIiU"
      },
      "execution_count": null,
      "outputs": []
    },
    {
      "cell_type": "code",
      "source": [
        "class Knn_imputer():\n",
        "  def __init__(self, n_neighbors): \n",
        "        \n",
        "    ## 생성자로 최근접 이웃수(n_neighbors)를 입력 받습니다.\n",
        "    self.k = n_neighbors    \n",
        "  \n",
        "  ## knn 은 lazy learning 입니다.\n",
        "  def fit(self,X):\n",
        "      self.X = X\n",
        "  \n",
        "  def predict(self, X, feat_name): # feat_name: KNN imputer를 사용하려는 feature 명\n",
        "\n",
        "    for i in tqdm.tqdm(range(len(X))):\n",
        "     if pd.isnull(X[feat_name].iloc[i]): # feat_name 열에 있는 결측값 확인\n",
        "\n",
        "        distance = self.dist(X, X.iloc[i], feat_name) # 데이터프레임 X와 결측값이 있는 행 데이터 간의 거리 구하는 함수\n",
        "      \n",
        "        \n",
        "        sorted_dist = sorted(distance.items(), key=lambda x: x[1]) # distance 를 sorting 하기\n",
        "\n",
        "         ################  문제 3-2  ####################\n",
        "         # k개의 \"feat_name\" 값을 보고 평균 내어 값을 결정하기\n",
        "         # 소스코드를 입력하고 캡처 후 보고서에 업로드하세요.\n",
        "         # 코드 시작과 코드 끝 라인을 삭제하지 마세요.\n",
        "        ################ 코드 시작  #####################\n",
        "\n",
        "\n",
        "\n",
        "\n",
        "\n",
        "\n",
        "        \n",
        "\n",
        "        ################ 코드 끝  ######################\n",
        "        ##############################################\n",
        "        \n",
        "  \n",
        "  def dist(self, X, y, feat_name): # feat_name: KNN imputer를 사용하려는 feature 명\n",
        "    num_train = X.shape[0]\n",
        "\n",
        "    X = X.drop([feat_name], axis=1)\n",
        "    y = y.drop([feat_name])\n",
        "    dist_dict = {} ## {index : distance} 형태\n",
        "\n",
        "    for i in range(num_train):\n",
        "    \n",
        "    ################  문제 3-1  ####################\n",
        "    # 데이터프레임 X와 결측값이 있는 행 데이터 간의 거리 구하기\n",
        "    # 소스코드를 입력하고 캡처 후 보고서에 업로드하세요.\n",
        "    # 코드 시작과 코드 끝 라인을 삭제하지 마세요.\n",
        "    ################ 코드 시작  #####################\n",
        "\n",
        "\n",
        "     \n",
        "    ################ 코드 끝  ######################\n",
        "    ##############################################\n",
        "    return dist_dict\n"
      ],
      "metadata": {
        "id": "uySaK8FxlMvy"
      },
      "execution_count": null,
      "outputs": []
    },
    {
      "cell_type": "code",
      "source": [
        "# 아래 숫자는 변경하셔도 상관 없습니다.\n",
        "imputer = Knn_imputer(3)\n",
        "imputer.fit(df)\n",
        "\n",
        "# test set에 대해 predict를 진행합니다.\n",
        "imputer.predict(df, 'Term')\n",
        "imputer.predict(df, 'Credit_History')"
      ],
      "metadata": {
        "id": "NxCwHRLUCZsM"
      },
      "execution_count": null,
      "outputs": []
    },
    {
      "cell_type": "code",
      "source": [
        "df.isnull().sum() # 결측치가 채워졌는지 확인"
      ],
      "metadata": {
        "id": "2wx_rh98EluW"
      },
      "execution_count": null,
      "outputs": []
    },
    {
      "cell_type": "markdown",
      "source": [
        "## 문제 4: correlation\n",
        "DataFrame df에 대해서 correlation heatmap을 그린 후, Status에 가장 영향을 주는 feature는 무엇인지 서술하세요"
      ],
      "metadata": {
        "id": "5uS1-p9P57tZ"
      }
    },
    {
      "cell_type": "markdown",
      "source": [
        "* Status에 가장 영향을 주는 feature에 대한 서술\n",
        ":"
      ],
      "metadata": {
        "id": "j77tmqos6K_Q"
      }
    },
    {
      "cell_type": "code",
      "source": [
        "plt.figure(figsize = (16,16)) # figure 사이즈 조절\n",
        "\n",
        "## 문제 4 ##\n",
        "# 코드 작성\n",
        "\n",
        "############"
      ],
      "metadata": {
        "id": "6mu7c2JE1Yd_"
      },
      "execution_count": null,
      "outputs": []
    },
    {
      "cell_type": "markdown",
      "source": [
        "## 데이터 나누기"
      ],
      "metadata": {
        "id": "XQQ65aB9VnsT"
      }
    },
    {
      "cell_type": "markdown",
      "source": [
        "### **주의 사항**\n",
        "train_test_split에 random seed를 사용하여 split set을 고정한다.\n",
        "- 모든 문제에 같은 random seed를 부여할 필요는 없다."
      ],
      "metadata": {
        "id": "AL5vgirAVqng"
      }
    },
    {
      "cell_type": "code",
      "source": [
        "from sklearn.model_selection import train_test_split\n",
        "\n",
        "X = df.drop('Status', axis=1) # target feature가 Status(대출의 승인 여부)\n",
        "y = df['Status']\n",
        "y=y.astype('int')\n",
        "  \n",
        "X_train, X_test, y_train, y_test = train_test_split(X, y, test_size=0.1)\n",
        "X_train, X_val, y_train, y_val = train_test_split(X_train, y_train, test_size=1/9)\n",
        "\n",
        "print(\"X_train's shape : \", X_train.shape)\n",
        "print(\"y_train's shape : \", y_train.shape)\n",
        "print(\"\\nX_val's shape : \", X_val.shape)\n",
        "print(\"y_val's shape : \", y_val.shape)\n",
        "print(\"\\nX_test's shape : \", X_test.shape)\n",
        "print(\"y_test's shape : \", y_test.shape)"
      ],
      "metadata": {
        "id": "_6lA6tKIVsT2"
      },
      "execution_count": null,
      "outputs": []
    },
    {
      "cell_type": "markdown",
      "source": [
        "## 문제5: KNN\n",
        "\n",
        "\n",
        "\n",
        "- Scikit-learn 라이브러리를 이용하여 KNN의 최적의 파라미터를 찾는다.\n",
        "    - 최근접 이웃을 찾기 위한 거리의 종류로 최소한 두 가지 이상의 거리 척도를 사용한다.\n",
        "    - K값을 최소 3개 이상 비교한다.\n",
        "    - 거리 척도, k값에 따라 train, validation 정확도를 한 그래프로 그린다.(x축 k값, y축 정확도)\n",
        "    - 찾은 최적의 파라미터와 test set 이용하여 test_accuracy 계산하고 기입한다.\n",
        "    - 최적의 파라미터를 찾은 것에 대한 설명을 '텍스트 셀'에 작성한다."
      ],
      "metadata": {
        "id": "0vgaNVKCVzcy"
      }
    },
    {
      "cell_type": "code",
      "source": [
        "from sklearn.neighbors import KNeighborsClassifier\n",
        "from sklearn import metrics\n",
        "import matplotlib.pyplot as plt"
      ],
      "metadata": {
        "id": "E50O8xmIV4Mk"
      },
      "execution_count": null,
      "outputs": []
    },
    {
      "cell_type": "code",
      "source": [
        "### 문제 1 ###\n",
        "### 코드 작성 ###\n",
        "\n",
        "################"
      ],
      "metadata": {
        "id": "swYwxnzwVzMp"
      },
      "execution_count": null,
      "outputs": []
    },
    {
      "cell_type": "markdown",
      "source": [
        "**설명 작성**  \n",
        "- 최적의 파라미터:\n",
        "- 설명:"
      ],
      "metadata": {
        "id": "LVfBlZfQV49c"
      }
    },
    {
      "cell_type": "markdown",
      "source": [
        "## 문제6 Cross validation with Linear SVM\n",
        "### 6-1: k-fold\n",
        "- 수업시간에 배운 **5-fold** 를 이용하여 최적의 파라미터를 찾는다. (데이터는 동일)\n",
        "- 수업시간에 배운 linear SVM 모델의 파라미터 C를 cross-validation을 바탕으로 최적화한다.\n",
        "    - C 이외의 하이퍼파라미터는 임의로 설정 가능\n",
        "    - **5-fold CV를 할 때, test data를 제외한 90%의 데이터를 사용해야한다.**\n",
        "    - 파라미터에 따라 K-fold CV를 통해 나온 평균 정확도와 각 fold의 정확도들을 한 그래프로 그린다.(x축 선택한 파라미터, y축 정확도)\n",
        "    - 찾은 최적의 파라미터와 test set을 이용하여 test accuracy를 계산하고 기입한다.\n",
        "    - 최적의 파라미터를 찾은 것에 대한 설명을 '텍스트 셀'에 작성한다.\n",
        "\n",
        "### 6-2: Leave One Out\n",
        "- 수업시간에 배운 Leave-One-Out 를 이용하여 최적의 파라미터를 찾는다. (데이터는 동일)\n",
        "- 수업시간에 배운 linear SVM 모델의 파라미터 C를 cross-validation을 바탕으로 최적화한다.\n",
        "  - C 이외의 하이퍼파라미터는 임의로 설정 가능\n",
        "  - **Leave-One-Out CV를 할 때, test data를 제외한 90%의 데이터를 사용해야한다.**\n",
        "  - 파라미터에 따라 Leave-One-Out CV를 통해 나온 평균 정확도를 그래프로 그린다.(x축 선택한 파라미터, y축 정확도)\n",
        "  - 찾은 최적의 파라미터와 test set을 이용하여 test accuracy를 계산하고 기입한다.\n",
        "  - 최적의 파라미터를 찾은 것에 대한 설명을 '텍스트 셀'에 작성한다."
      ],
      "metadata": {
        "id": "DZCSzKbocfZ3"
      }
    },
    {
      "cell_type": "code",
      "source": [
        "from sklearn.model_selection import LeaveOneOut, KFold\n",
        "from sklearn.model_selection import cross_validate\n",
        "from sklearn.model_selection import cross_val_score\n",
        "from sklearn.svm import LinearSVC\n",
        "from sklearn.svm import SVC"
      ],
      "metadata": {
        "id": "UZUbFB4qcoit"
      },
      "execution_count": null,
      "outputs": []
    },
    {
      "cell_type": "code",
      "source": [
        "## 문제 6-1 ##\n",
        "# 코드 작성\n",
        "\n",
        "############"
      ],
      "metadata": {
        "id": "LVZiU6KP6hln"
      },
      "execution_count": null,
      "outputs": []
    },
    {
      "cell_type": "markdown",
      "source": [
        "**설명 작성**  \n",
        "- 최적의 파라미터:\n",
        "- 설명:"
      ],
      "metadata": {
        "id": "yPZHDvxt7DJq"
      }
    },
    {
      "cell_type": "code",
      "source": [
        "## 문제 6-2 ##\n",
        "# 코드 작성\n",
        "\n",
        "############"
      ],
      "metadata": {
        "id": "j3xk9BtL7GfZ"
      },
      "execution_count": null,
      "outputs": []
    },
    {
      "cell_type": "markdown",
      "source": [
        "**설명 작성**  \n",
        "- 최적의 파라미터:\n",
        "- 설명:"
      ],
      "metadata": {
        "id": "qbAZu9PS7GFB"
      }
    },
    {
      "cell_type": "markdown",
      "source": [
        "## 문제7 Cross validation with SVM\n",
        "### 7-1: k-fold\n",
        "- 문제6-1 코드에서 kernel을 바꾸어 k-fold를 진행하세요\n",
        "- C는 2로 설정하고 k=5로 설정합니다.\n",
        "\n",
        "### 7-2: Leave One Out\n",
        "- 문제6-2 코드에서 kernel을 바꾸어 Leave one out를 진행하세요\n",
        "- C는 2로 설정합니다.\n",
        "\n",
        "### 7-3: 데이터의 특성\n",
        "문제 6의 결과와 7-1, 7-2의 결과를 비교하여 보았을 때 주어진 데이터는 어떤 관계인지 (선형, 비선형)인지 적고, 왜 그런지 그 이유를 서술하세요\n"
      ],
      "metadata": {
        "id": "Ovy4_W2k7PEp"
      }
    },
    {
      "cell_type": "code",
      "source": [
        "## 문제 7-1 ##\n",
        "# 코드 작성\n",
        "\n",
        "############"
      ],
      "metadata": {
        "id": "-5VV-Zb87qnN"
      },
      "execution_count": null,
      "outputs": []
    },
    {
      "cell_type": "code",
      "source": [
        "## 문제 7-2 ##\n",
        "# 코드 작성\n",
        "\n",
        "############"
      ],
      "metadata": {
        "id": "Yv0jRBdb7mN2"
      },
      "execution_count": null,
      "outputs": []
    },
    {
      "cell_type": "markdown",
      "source": [
        "**7-3 설명 작성**  \n",
        "- 설명:"
      ],
      "metadata": {
        "id": "vs_Bktdk8OW6"
      }
    },
    {
      "cell_type": "markdown",
      "source": [
        "## 문제 8: Grid search\n",
        "### 문제 8-1\n",
        "주어진 param_grid에 대해서 RandomForestClassifier에 GridSearch cross validation(cv=5)을 수행하는 코드를 작성하고 best hyperparameter를 출력하세요.  \n",
        "* 아래의 주어진 패키지를 사용합니다.\n",
        "\n"
      ],
      "metadata": {
        "id": "oxcKf-eUwHe7"
      }
    },
    {
      "cell_type": "code",
      "source": [
        "from sklearn.model_selection import GridSearchCV\n",
        "from sklearn.svm import SVC\n",
        "from sklearn.ensemble import RandomForestClassifier"
      ],
      "metadata": {
        "id": "eWxTSTkIwKQy"
      },
      "execution_count": null,
      "outputs": []
    },
    {
      "cell_type": "code",
      "source": [
        "param_grid = { \n",
        "    'n_estimators': [200, 500],\n",
        "    'max_features': ['sqrt', 'log2'],\n",
        "    'max_depth' : [4,5,6,7,8],\n",
        "    'criterion' :['gini', 'entropy']\n",
        "}"
      ],
      "metadata": {
        "id": "0tvNdzCiwm8h"
      },
      "execution_count": null,
      "outputs": []
    },
    {
      "cell_type": "code",
      "source": [
        "## 문제 8-1 ##\n",
        "## 코드 작성 ##\n",
        "\n",
        "############"
      ],
      "metadata": {
        "id": "T3qkcnU_9H2b"
      },
      "execution_count": null,
      "outputs": []
    },
    {
      "cell_type": "markdown",
      "source": [
        "### 문제 8-2\n",
        "8-1에서 구한 best parameter를 사용하여 최종적인 RandomForestClassifier를 만든 후 train 데이터로 학습 후, `accuracy_score`를 사용하여 test accuracy를 출력하세요."
      ],
      "metadata": {
        "id": "nTjJZQA09FNo"
      }
    },
    {
      "cell_type": "code",
      "source": [
        "from sklearn.metrics import accuracy_score"
      ],
      "metadata": {
        "id": "K_VIbYcs1IHw"
      },
      "execution_count": null,
      "outputs": []
    },
    {
      "cell_type": "code",
      "source": [
        "## 문제 8-2 ##\n",
        "## 코드 작성 ##\n",
        "\n",
        "############"
      ],
      "metadata": {
        "id": "DGNOx4GM9Zfz"
      },
      "execution_count": null,
      "outputs": []
    }
  ]
}